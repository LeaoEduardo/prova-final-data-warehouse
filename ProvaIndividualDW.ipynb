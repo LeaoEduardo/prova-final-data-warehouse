{
 "cells": [
  {
   "cell_type": "markdown",
   "metadata": {},
   "source": [
    "# Prova Individual de Data Warehouse\n",
    "Aluno: Eduardo Tavares Leão\n",
    "\n",
    "DRE: 117063913\n",
    "\n",
    "A máquina utilizada é um sistema Linux."
   ]
  },
  {
   "cell_type": "markdown",
   "metadata": {},
   "source": [
    "## Questão 1"
   ]
  },
  {
   "cell_type": "markdown",
   "metadata": {},
   "source": [
    "Abaixo segue o script de coleta dos dados do ENADE. Ele segue duas etapas:\n",
    "1. Download dos dados na rede e extração dos arquivos zip nas pastas dos anos respectivos (2017, 2018, 2019)\n",
    "2. Carga dos arquivos .csv principais de cada ano no dataframe `final_df`."
   ]
  },
  {
   "cell_type": "markdown",
   "metadata": {},
   "source": [
    "### Parte 1"
   ]
  },
  {
   "cell_type": "code",
   "execution_count": 1,
   "metadata": {
    "id": "Yfbv_9jGaKMN"
   },
   "outputs": [],
   "source": [
    "import requests\n",
    "import zipfile\n",
    "import io"
   ]
  },
  {
   "cell_type": "code",
   "execution_count": null,
   "metadata": {
    "colab": {
     "base_uri": "https://localhost:8080/"
    },
    "id": "Oo566Fm9jGDz",
    "outputId": "e12442e8-312d-4e42-e278-dd205b6d9fbd"
   },
   "outputs": [],
   "source": [
    "!rm -r 2019\n",
    "!rm -r 2018\n",
    "!rm -r 2017"
   ]
  },
  {
   "cell_type": "code",
   "execution_count": 4,
   "metadata": {
    "id": "aRa8DTgNbfQh"
   },
   "outputs": [],
   "source": [
    "!mkdir 2019\n",
    "!mkdir 2017"
   ]
  },
  {
   "cell_type": "code",
   "execution_count": 6,
   "metadata": {
    "id": "7LSXfNS4ab2N"
   },
   "outputs": [],
   "source": [
    "urls = [\n",
    "        'https://download.inep.gov.br/microdados/Enade_Microdados/microdados_enade_2019.zip',\n",
    "        'https://download.inep.gov.br/microdados/Enade_Microdados/microdados_enade_2018.zip',\n",
    "        'https://download.inep.gov.br/microdados/Enade_Microdados/microdados_Enade_2017_portal_2018.10.09.zip',\n",
    "]\n",
    "year = 2019\n",
    "for i,url in enumerate(urls):\n",
    "  r = requests.get(url)\n",
    "  z = zipfile.ZipFile(io.BytesIO(r.content))\n",
    "  if year-i == 2018:\n",
    "    z.extractall(f\"./\")  \n",
    "  z.extractall(f\"./{year-i}\")"
   ]
  },
  {
   "cell_type": "markdown",
   "metadata": {},
   "source": [
    "### Parte 2"
   ]
  },
  {
   "cell_type": "code",
   "execution_count": 2,
   "metadata": {
    "colab": {
     "base_uri": "https://localhost:8080/"
    },
    "id": "yyCeULBicUwI",
    "outputId": "ee32e96a-462c-43ef-cf3e-6c7267703435"
   },
   "outputs": [
    {
     "name": "stderr",
     "output_type": "stream",
     "text": [
      "/tmp/ipykernel_4866/3663103902.py:4: DtypeWarning: Columns (29,31,32,44,45,46,47,54,55,56) have mixed types.Specify dtype option on import or set low_memory=False.\n",
      "  dfs = [\n",
      "/tmp/ipykernel_4866/3663103902.py:4: DtypeWarning: Columns (48,49,50,51,52,53,57,58,59,84,95,96,97,98,99,100,101,102,103,104,105,106,107,108,109,110,111,112,113,114,115,116,117,118,119,120,121,122,123,124,125,126,127,128,129,130,131,132,133,134,135,136) have mixed types.Specify dtype option on import or set low_memory=False.\n",
      "  dfs = [\n"
     ]
    }
   ],
   "source": [
    "import pandas as pd\n",
    "import numpy as np\n",
    "\n",
    "dfs = [\n",
    "       pd.read_csv(f'{year}/3.DADOS/MICRODADOS_ENADE_{year}.txt', sep=';')\n",
    "       if year == 2017\n",
    "       else\n",
    "       pd.read_csv(f'{year}/3.DADOS/microdados_enade_{year}.txt', sep=';')\n",
    "       for year in range(2017,2020)\n",
    "      ]"
   ]
  },
  {
   "cell_type": "code",
   "execution_count": 3,
   "metadata": {
    "id": "esSXVO81hgVc"
   },
   "outputs": [
    {
     "data": {
      "text/html": [
       "<div>\n",
       "<style scoped>\n",
       "    .dataframe tbody tr th:only-of-type {\n",
       "        vertical-align: middle;\n",
       "    }\n",
       "\n",
       "    .dataframe tbody tr th {\n",
       "        vertical-align: top;\n",
       "    }\n",
       "\n",
       "    .dataframe thead th {\n",
       "        text-align: right;\n",
       "    }\n",
       "</style>\n",
       "<table border=\"1\" class=\"dataframe\">\n",
       "  <thead>\n",
       "    <tr style=\"text-align: right;\">\n",
       "      <th></th>\n",
       "      <th>NU_ANO</th>\n",
       "      <th>CO_IES</th>\n",
       "      <th>CO_CATEGAD</th>\n",
       "      <th>CO_ORGACAD</th>\n",
       "      <th>CO_GRUPO</th>\n",
       "      <th>CO_CURSO</th>\n",
       "      <th>CO_MODALIDADE</th>\n",
       "      <th>CO_MUNIC_CURSO</th>\n",
       "      <th>CO_UF_CURSO</th>\n",
       "      <th>CO_REGIAO_CURSO</th>\n",
       "      <th>...</th>\n",
       "      <th>QE_I72</th>\n",
       "      <th>QE_I73</th>\n",
       "      <th>QE_I74</th>\n",
       "      <th>QE_I75</th>\n",
       "      <th>QE_I76</th>\n",
       "      <th>QE_I77</th>\n",
       "      <th>QE_I78</th>\n",
       "      <th>QE_I79</th>\n",
       "      <th>QE_I80</th>\n",
       "      <th>QE_I81</th>\n",
       "    </tr>\n",
       "  </thead>\n",
       "  <tbody>\n",
       "    <tr>\n",
       "      <th>0</th>\n",
       "      <td>2017</td>\n",
       "      <td>1</td>\n",
       "      <td>1</td>\n",
       "      <td>10028</td>\n",
       "      <td>5710</td>\n",
       "      <td>3</td>\n",
       "      <td>1</td>\n",
       "      <td>5103403</td>\n",
       "      <td>51</td>\n",
       "      <td>5</td>\n",
       "      <td>...</td>\n",
       "      <td>NaN</td>\n",
       "      <td>NaN</td>\n",
       "      <td>NaN</td>\n",
       "      <td>NaN</td>\n",
       "      <td>NaN</td>\n",
       "      <td>NaN</td>\n",
       "      <td>NaN</td>\n",
       "      <td>NaN</td>\n",
       "      <td>NaN</td>\n",
       "      <td>NaN</td>\n",
       "    </tr>\n",
       "    <tr>\n",
       "      <th>1</th>\n",
       "      <td>2017</td>\n",
       "      <td>1</td>\n",
       "      <td>1</td>\n",
       "      <td>10028</td>\n",
       "      <td>5710</td>\n",
       "      <td>3</td>\n",
       "      <td>1</td>\n",
       "      <td>5103403</td>\n",
       "      <td>51</td>\n",
       "      <td>5</td>\n",
       "      <td>...</td>\n",
       "      <td>NaN</td>\n",
       "      <td>NaN</td>\n",
       "      <td>NaN</td>\n",
       "      <td>NaN</td>\n",
       "      <td>NaN</td>\n",
       "      <td>NaN</td>\n",
       "      <td>NaN</td>\n",
       "      <td>NaN</td>\n",
       "      <td>NaN</td>\n",
       "      <td>NaN</td>\n",
       "    </tr>\n",
       "    <tr>\n",
       "      <th>2</th>\n",
       "      <td>2017</td>\n",
       "      <td>1</td>\n",
       "      <td>1</td>\n",
       "      <td>10028</td>\n",
       "      <td>5710</td>\n",
       "      <td>3</td>\n",
       "      <td>1</td>\n",
       "      <td>5103403</td>\n",
       "      <td>51</td>\n",
       "      <td>5</td>\n",
       "      <td>...</td>\n",
       "      <td>NaN</td>\n",
       "      <td>NaN</td>\n",
       "      <td>NaN</td>\n",
       "      <td>NaN</td>\n",
       "      <td>NaN</td>\n",
       "      <td>NaN</td>\n",
       "      <td>NaN</td>\n",
       "      <td>NaN</td>\n",
       "      <td>NaN</td>\n",
       "      <td>NaN</td>\n",
       "    </tr>\n",
       "    <tr>\n",
       "      <th>3</th>\n",
       "      <td>2017</td>\n",
       "      <td>1</td>\n",
       "      <td>1</td>\n",
       "      <td>10028</td>\n",
       "      <td>5710</td>\n",
       "      <td>3</td>\n",
       "      <td>1</td>\n",
       "      <td>5103403</td>\n",
       "      <td>51</td>\n",
       "      <td>5</td>\n",
       "      <td>...</td>\n",
       "      <td>NaN</td>\n",
       "      <td>NaN</td>\n",
       "      <td>NaN</td>\n",
       "      <td>NaN</td>\n",
       "      <td>NaN</td>\n",
       "      <td>NaN</td>\n",
       "      <td>NaN</td>\n",
       "      <td>NaN</td>\n",
       "      <td>NaN</td>\n",
       "      <td>NaN</td>\n",
       "    </tr>\n",
       "    <tr>\n",
       "      <th>4</th>\n",
       "      <td>2017</td>\n",
       "      <td>1</td>\n",
       "      <td>1</td>\n",
       "      <td>10028</td>\n",
       "      <td>5710</td>\n",
       "      <td>3</td>\n",
       "      <td>1</td>\n",
       "      <td>5103403</td>\n",
       "      <td>51</td>\n",
       "      <td>5</td>\n",
       "      <td>...</td>\n",
       "      <td>NaN</td>\n",
       "      <td>NaN</td>\n",
       "      <td>NaN</td>\n",
       "      <td>NaN</td>\n",
       "      <td>NaN</td>\n",
       "      <td>NaN</td>\n",
       "      <td>NaN</td>\n",
       "      <td>NaN</td>\n",
       "      <td>NaN</td>\n",
       "      <td>NaN</td>\n",
       "    </tr>\n",
       "  </tbody>\n",
       "</table>\n",
       "<p>5 rows × 150 columns</p>\n",
       "</div>"
      ],
      "text/plain": [
       "   NU_ANO  CO_IES  CO_CATEGAD  CO_ORGACAD  CO_GRUPO  CO_CURSO  CO_MODALIDADE  \\\n",
       "0    2017       1           1       10028      5710         3              1   \n",
       "1    2017       1           1       10028      5710         3              1   \n",
       "2    2017       1           1       10028      5710         3              1   \n",
       "3    2017       1           1       10028      5710         3              1   \n",
       "4    2017       1           1       10028      5710         3              1   \n",
       "\n",
       "   CO_MUNIC_CURSO  CO_UF_CURSO  CO_REGIAO_CURSO  ...  QE_I72 QE_I73  QE_I74  \\\n",
       "0         5103403           51                5  ...     NaN    NaN     NaN   \n",
       "1         5103403           51                5  ...     NaN    NaN     NaN   \n",
       "2         5103403           51                5  ...     NaN    NaN     NaN   \n",
       "3         5103403           51                5  ...     NaN    NaN     NaN   \n",
       "4         5103403           51                5  ...     NaN    NaN     NaN   \n",
       "\n",
       "   QE_I75  QE_I76  QE_I77  QE_I78  QE_I79  QE_I80  QE_I81  \n",
       "0     NaN     NaN     NaN     NaN     NaN     NaN     NaN  \n",
       "1     NaN     NaN     NaN     NaN     NaN     NaN     NaN  \n",
       "2     NaN     NaN     NaN     NaN     NaN     NaN     NaN  \n",
       "3     NaN     NaN     NaN     NaN     NaN     NaN     NaN  \n",
       "4     NaN     NaN     NaN     NaN     NaN     NaN     NaN  \n",
       "\n",
       "[5 rows x 150 columns]"
      ]
     },
     "execution_count": 3,
     "metadata": {},
     "output_type": "execute_result"
    }
   ],
   "source": [
    "final_df = pd.concat(dfs)\n",
    "final_df.head()"
   ]
  },
  {
   "cell_type": "markdown",
   "metadata": {},
   "source": [
    "## Questão 2"
   ]
  },
  {
   "cell_type": "markdown",
   "metadata": {
    "id": "JgQ4EnSInlel"
   },
   "source": [
    "### Dimensões:\n",
    "\n",
    "1. Idade (NU_IDADE)\n",
    "2. Estado (CO_UF_CURSO)\n",
    "3. Area de enquadramento no ENADE (CO_GRUPO)\n",
    "4. Tipo de organização acadêmica (CO_ORGACAD)\n",
    "5. Modalidade de ensino (CO_MODALIDADE)\n",
    "6. Região do curso (CO_REGIAO_CURSO)\n",
    "7. Sexo (TP_SEXO)\n",
    "8. Ano graduação (ANO_IN_GRAD)\n",
    "9. Ano fim do ensino médio (ANO_FIM_EM)\n",
    "10. Turno Graduação (CO_TURNO_GRADUACAO)\n",
    "11. Ano da Prova (NU_ANO)\n",
    "\n",
    "### Fato: Prova"
   ]
  },
  {
   "cell_type": "markdown",
   "metadata": {
    "id": "mMEASjr87kY1"
   },
   "source": [
    "![BD](./DW_Individual.jpg)"
   ]
  },
  {
   "cell_type": "markdown",
   "metadata": {},
   "source": [
    "O modelo acima foi feito usando a ferramenta [diagrams.net](https://app.diagrams.net/)."
   ]
  },
  {
   "cell_type": "markdown",
   "metadata": {},
   "source": [
    "Após idealização, todas as dimensões são extraídas para as colunas de um dataframe `dimensions_df` e renomeadas para uso posterior."
   ]
  },
  {
   "cell_type": "code",
   "execution_count": 4,
   "metadata": {},
   "outputs": [],
   "source": [
    "dimensions = ['NU_IDADE', 'CO_UF_CURSO', 'CO_GRUPO', 'CO_ORGACAD', 'CO_MODALIDADE', 'CO_REGIAO_CURSO', 'TP_SEXO', 'ANO_IN_GRAD', 'ANO_FIM_EM', 'CO_TURNO_GRADUACAO', 'NU_ANO']\n",
    "dimensions_df = final_df.loc[:, dimensions].rename(columns={\n",
    "  'NU_IDADE':'Idade', 'CO_UF_CURSO':'Estado', 'CO_GRUPO':'Grupo', 'CO_ORGACAD':'Organizacao', 'CO_MODALIDADE':'Modalidade', 'CO_REGIAO_CURSO':'Regiao',\n",
    "  'TP_SEXO':'Sexo', 'ANO_IN_GRAD':'Inicio_graduacao', 'ANO_FIM_EM': 'Fim_EM', 'CO_TURNO_GRADUACAO':'Turno', 'NU_ANO':'Ano' \n",
    "}).dropna()"
   ]
  },
  {
   "cell_type": "markdown",
   "metadata": {},
   "source": [
    "## Questões 3 e 4"
   ]
  },
  {
   "cell_type": "markdown",
   "metadata": {},
   "source": [
    "### Sumário da criação do banco e inserção dos dados.\n",
    "\n",
    "Para criação do banco e inserção dos dado foi utilizada a biblioteca python [SQLAlchemy](https://www.sqlalchemy.org/) em um banco de dados local [SQLite](https://www.sqlite.org/index.html). Por isso, é necessário ter SQLite instalado na máquina.\n",
    "\n",
    "Para esta questão as etapas foram:\n",
    "1. Separar os dados a serem inseridos em dimensões com apenas um atributo utilizando pandas.\n",
    "2. Separar os dados a serem inseridos em dimensões com 2 atributos de forma manual lendo os dicionários de variáveis presentes nas bases de dados do ENADE.\n",
    "3. Criação do banco sqlite e do `engine` SQLAlchemy. \n",
    "4. Definição das tabelas utilizando SQLAlchemy.\n",
    "5. Inserção dos dados nas tabelas de dimensões.\n",
    "6. Inserção dos dados na tabela fato."
   ]
  },
  {
   "cell_type": "markdown",
   "metadata": {},
   "source": [
    "### Parte 1: Dimensões com 1 atributo"
   ]
  },
  {
   "cell_type": "code",
   "execution_count": 5,
   "metadata": {},
   "outputs": [],
   "source": [
    "ano = dimensions_df.loc[:,'Ano'].copy().drop_duplicates().sort_values().values\n",
    "\n",
    "idade = dimensions_df.loc[:,'Idade'].copy().drop_duplicates().sort_values().values\n",
    "\n",
    "sexo = dimensions_df.loc[:,'Sexo'].copy().drop_duplicates().sort_values().values\n",
    "\n",
    "ano_in_grad = dimensions_df.loc[:,'Inicio_graduacao'].copy().drop_duplicates().sort_values().values\n",
    "\n",
    "ano_fim_em = dimensions_df.loc[:,'Fim_EM'].copy().drop_duplicates().sort_values().values"
   ]
  },
  {
   "cell_type": "markdown",
   "metadata": {},
   "source": [
    "### Parte 2: Dimensões com 2 atributos"
   ]
  },
  {
   "cell_type": "code",
   "execution_count": 6,
   "metadata": {},
   "outputs": [],
   "source": [
    "\n",
    "variables_dict = {\n",
    "  'Estado': [\n",
    "    (11, \"Rondônia\"), (12, \"Acre\"), (13, \"Amazonas\"), (14, \"Roraima\"), (15, \"Pará\"), (16, \"Amapa\"), (17, \"Tocantins\"), (21, \"Maranhão\"), (22, \"Piauí\"), (23, \"Ceará\"), (24, \"Rio Grande do Norte\"), (25, \"Paraíba\"), (26, \"Pernambuco\"), (27, \"Alagoas\"), (28, \"Sergipe\"), (29, \"Bahia\"), (31, \"Minas gerais\"), (32, \"Espírito Santo\"), (33, \"Rio de Janeiro\"), (35, \"São Paulo\"), (41, \"Paraná\"), (42, \"Santa Catarina\"), (43, \"Rio Grande do Sul\"), (50, \"Mato Grosso do Sul\"), (51, \"Mato Grosso\"), (52, \"Goiás\"), (53, \"Distrito federal\")\n",
    "  ],\n",
    "  'Regiao':[\n",
    "    (1, \"Norte\"), (2, \"Nordeste\"), (3, \"Sudeste\"), (4, \"Sul\"), (5, \"Centro-Oeste\")\n",
    "  ],\n",
    "  'Grupo':[ \n",
    "    (1, \"ADMINISTRAÇÃO\"), (2, \"DIREITO\"), (13, \"CIÊNCIAS ECONÔMICAS\"), (18, \"PSICOLOGIA\"), (22, \"CIÊNCIAS CONTÁBEIS\"), (26, \"DESIGN\"), (29, \"TURISMO\"), (38, \"SERVIÇO SOCIAL\"), (67, \"SECRETARIADO EXECUTIVO\"), (81, \"RELAÇÕES INTERNACIONAIS\"), (83, \"TECNOLOGIA EM DESIGN DE MODA\"), (84, \"TECNOLOGIA EM MARKETING\"), (85, \"TECNOLOGIA EM PROCESSOS GERENCIAIS\"), (86, \"TECNOLOGIA EM GESTÃO DE RECURSOS HUMANOS\"), (87, \"TECNOLOGIA EM GESTÃO FINANCEIRA\"), (88, \"TECNOLOGIA EM GASTRONOMIA\"), (93, \"TECNOLOGIA EM GESTÃO COMERCIAL\"), (94, \"TECNOLOGIA EM LOGÍSTICA\"), (100, \"ADMINISTRAÇÃO PÚBLICA\"), (101, \"TEOLOGIA\"), (102, \"TECNOLOGIA EM COMÉRCIO EXTERIOR\"), (103, \"TECNOLOGIA EM DESIGN DE INTERIORES\"), (104, \"TECNOLOGIA EM DESIGN GRÁFICO\"), (105, \"TECNOLOGIA EM GESTÃO DA QUALIDADE\"), (106, \"TECNOLOGIA EM GESTÃO PÚBLICA\"), (803, \"COMUNICAÇÃO SOCIAL - JORNALISMO\"), (804, \"COMUNICAÇÃO SOCIAL - PUBLICIDADE E PROPAGANDA\"), (5, \"MEDICINA VETERINÁRIA\"), (6, \"ODONTOLOGIA\"), (12, \"MEDICINA\"), (17, \"AGRONOMIA\"), (19, \"FARMÁCIA\"), (21, \"ARQUITETURA E URBANISMO\"), (23, \"ENFERMAGEM\"), (27, \"FONOAUDIOLOGIA\"), (28, \"NUTRIÇÃO\"), (36, \"FISIOTERAPIA\"), (51, \"ZOOTECNIA\"), (55, \"BIOMEDICINA\"), (69, \"TECNOLOGIA EM RADIOLOGIA\"), (90, \"TECNOLOGIA EM AGRONEGÓCIOS\"), (91, \"TECNOLOGIA EM GESTÃO HOSPITALAR\"), (92, \"TECNOLOGIA EM GESTÃO AMBIENTAL\"), (95, \"TECNOLOGIA EM ESTÉTICA E COSMÉTICA\"), (3501, \"EDUCAÇÃO FÍSICA (BACHARELADO)\"), (4003, \"ENGENHARIA DA COMPUTAÇÃO\"), (5710, \"ENGENHARIA CIVIL\"), (5806, \"ENGENHARIA ELÉTRICA\"), (5814, \"ENGENHARIA DE CONTROLE E AUTOMAÇÃO\"), (5902, \"ENGENHARIA MECÂNICA\"), (6002, \"ENGENHARIA DE ALIMENTOS\"), (6008, \"ENGENHARIA QUÍMICA\"), (6208, \"ENGENHARIA DE PRODUÇÃO\"), (6307, \"ENGENHARIA AMBIENTAL\"), (6405, \"ENGENHARIA FLORESTAL\"), (6410, \"TECNOLOGIA EM SEGURANÇA NO TRABALHO\"), (72, \"Tecnologia em Análise e Desenvolvimento de Sistemas\"), (76, \"Tecnologia em Gestão da Produção Industrial\"), (79, \"Tecnologia em Redes de Computadores\"), (701, \"Matemática (Bacharelado)\"), (702, \"Matemática (Licenciatura)\"), (903, \"Letras-Português (Bacharelado)\"), (904, \"Letras-Português (Licenciatura)\"), (905, \"Letras-Português e Inglês (Licenciatura)\"), (906, \"Letras-Português e Espanhol (Licenciatura)\"), (1401, \"Física (Bacharelado)\"), (1402, \"Física (Licenciatura)\"), (1501, \"Química (Bacharelado)\"), (1502, \"Química (Licenciatura)\"), (1601, \"Ciências Biológicas (Bacharelado)\"), (1602, \"Ciências Biológicas (Licenciatura)\"), (2001, \"Pedagogia (Licenciatura)\"), (2401, \"História (Bacharelado)\"), (2402, \"História (Licenciatura)\"), (2501, \"Artes Visuais (Licenciatura)\"), (3001, \"Geografia (Bacharelado)\"), (3002, \"Geografia (Licenciatura)\"), (3201, \"Filosofia (Bacharelado)\"), (3202, \"Filosofia (Licenciatura)\"), (3502, \"Educação Física (Licenciatura)\"), (4004, \"Ciência Da Computação (Bacharelado)\"), (4005, \"Ciência Da Computação (Licenciatura)\"), (4006, \"Sistemas De Informação\"), (4301, \"Música (Licenciatura)\"), (5401, \"Ciências Sociais (Bacharelado)\"), (5402, \"Ciências Sociais (Licenciatura)\"), (6306, \"Engenharia\"), (6407, \"Letras - Inglês\"), (6409, \"Tecnologia em Gestão da Tecnologia da Informaçã\"),\n",
    "  ],\n",
    "  'Modalidade': [\n",
    "    (0, \"EAD\"),\n",
    "    (1, \"Presencial\"),\n",
    "  ],\n",
    "  'Turno':[\n",
    "    (1, \"Matutino\"), (2, \"Vespertino\"), (3, \"Integral\"), (4, \"Noturno\")\n",
    "  ],\n",
    "  'Organizacao':[\n",
    "    (10019, \"Centro Federal de Educação Tecnológica\"), (10020, \"Centro Universitário\"), (10022, \"Faculdade \"), (10026, \"Instituto Federal de Educação, Ciência e Tecnologia\"), (10028, \"Universidade\")  \n",
    "  ]\n",
    "\n",
    "}"
   ]
  },
  {
   "cell_type": "markdown",
   "metadata": {},
   "source": [
    "### Parte 3: Criação do banco"
   ]
  },
  {
   "cell_type": "code",
   "execution_count": 7,
   "metadata": {},
   "outputs": [],
   "source": [
    "import os\n",
    "\n",
    "if os.path.exists('enade.db'):\n",
    "  os.remove('enade.db')"
   ]
  },
  {
   "cell_type": "code",
   "execution_count": 8,
   "metadata": {},
   "outputs": [],
   "source": [
    "from sqlalchemy import create_engine, MetaData, Table, Column, Integer, String, ForeignKey"
   ]
  },
  {
   "cell_type": "code",
   "execution_count": 9,
   "metadata": {},
   "outputs": [],
   "source": [
    "engine = create_engine(\"sqlite:///enade.db\")"
   ]
  },
  {
   "cell_type": "markdown",
   "metadata": {},
   "source": [
    "### Parte 4: Definição das tabelas"
   ]
  },
  {
   "cell_type": "code",
   "execution_count": 10,
   "metadata": {},
   "outputs": [],
   "source": [
    "metadata = MetaData(bind=engine)\n",
    "\n",
    "organizacao_table = Table('Organizacao', metadata,\n",
    "    Column('Id', Integer, primary_key=True),\n",
    "    Column('Nome', String, nullable=False),\n",
    ")\n",
    "\n",
    "modalidade_table = Table('Modalidade', metadata,\n",
    "    Column('Id', Integer, primary_key=True),\n",
    "    Column('Nome', String, nullable=False),\n",
    ")\n",
    "\n",
    "grupo_table = Table('Grupo', metadata,\n",
    "    Column('Id', Integer, primary_key=True),\n",
    "    Column('Nome', String, nullable=False),\n",
    ")\n",
    "\n",
    "turno_table = Table('Turno', metadata,\n",
    "    Column('Id', Integer, primary_key=True),\n",
    "    Column('Nome', String, nullable=False),\n",
    ")\n",
    "\n",
    "estado_table = Table('Estado', metadata,\n",
    "    Column('Id', Integer, primary_key=True),\n",
    "    Column('Nome', String, nullable=False),\n",
    ")\n",
    "\n",
    "regiao_table = Table('Regiao', metadata,\n",
    "    Column('Id', Integer, primary_key=True),\n",
    "    Column('Nome', String, nullable=False),\n",
    ")\n",
    "\n",
    "sexo_table = Table('Sexo', metadata,\n",
    "    Column('Sexo', String(1), primary_key=True),\n",
    ")\n",
    "\n",
    "ano_table = Table('Ano', metadata,\n",
    "    Column('Ano', Integer, primary_key=True),\n",
    ")\n",
    "\n",
    "inicio_grad_table = Table('Inicio_graduacao', metadata,\n",
    "    Column('Ano', Integer, primary_key=True),\n",
    ")\n",
    "\n",
    "fim_EM_table = Table('Fim_EM', metadata,\n",
    "    Column('Ano', Integer, primary_key=True),\n",
    ")\n",
    "\n",
    "idade_table = Table('Idade', metadata,\n",
    "    Column('Idade', Integer, primary_key=True),\n",
    ")\n",
    "\n",
    "prova_table = Table('Prova', metadata,\n",
    "    Column('Modalidade', Integer, ForeignKey(\"Modalidade.Id\"), nullable=False),\n",
    "    Column('Organizacao', Integer, ForeignKey(\"Organizacao.Id\"), nullable=False),\n",
    "    Column('Grupo', Integer, ForeignKey(\"Grupo.Id\"), nullable=False),\n",
    "    Column('Turno', Integer, ForeignKey(\"Turno.Id\"), nullable=False),\n",
    "    Column('Estado', Integer, ForeignKey(\"Estado.Id\"), nullable=False),\n",
    "    Column('Regiao', Integer, ForeignKey(\"Regiao.Id\"), nullable=False),\n",
    "    Column('Sexo', String(1), ForeignKey(\"Sexo.Sexo\"), nullable=False),\n",
    "    Column('Ano', Integer, ForeignKey(\"Ano.Ano\"), nullable=False),\n",
    "    Column('Inicio_graduacao', Integer, ForeignKey(\"Inicio_graduacao.Ano\"), nullable=False),\n",
    "    Column('Fim_EM', Integer, ForeignKey(\"Fim_EM.Ano\"), nullable=False),\n",
    "    Column('Idade', Integer, ForeignKey(\"Idade.Idade\"), nullable=False),\n",
    ")\n",
    "\n",
    "metadata.create_all(engine)"
   ]
  },
  {
   "cell_type": "markdown",
   "metadata": {},
   "source": [
    "### Parte 5: Inserção dos dados nas tabelas de dimensões"
   ]
  },
  {
   "cell_type": "markdown",
   "metadata": {},
   "source": [
    "Tanto nessa parte quanto na parte 6, utilizei da inserção de valores múltiplos através do SQLAlchemy. Para isso, foi necessário criar listas de dicionários do tipo:\n",
    "```Python\n",
    "[\n",
    "  {\"Atributo1\": valor1, \"Atributo1\":valor2},\n",
    "  {\"Atributo1\": valor3, \"Atributo1\":valor4},\n",
    "  {\"Atributo1\": valor5, \"Atributo1\":valor6},\n",
    "  ...\n",
    "]\n",
    "```\n",
    "\n",
    "Para realizar o comando equivalente à:\n",
    "\n",
    "```SQL\n",
    "INSERT INTO Table(Atributo1, Atributo2)  VALUES (Valor1, Valor2), \n",
    "  (Valor3, Valor4), \n",
    "  (Valor5, Valor6), \n",
    "  ...\n",
    "```"
   ]
  },
  {
   "cell_type": "code",
   "execution_count": 11,
   "metadata": {},
   "outputs": [],
   "source": [
    "from sqlalchemy import insert\n",
    "\n",
    "ano_dict = [{\"Ano\":int(a)} for a in ano]\n",
    "idade_dict = [{\"Idade\":int(i)} for i in idade]\n",
    "sexo_dict = [{\"Sexo\":str(s)} for s in sexo]\n",
    "ano_in_grad_dict = [{\"Ano\":int(a)} for a in ano_in_grad]\n",
    "ano_fim_EM_dict = [{\"Ano\":int(a)} for a in ano_fim_em]"
   ]
  },
  {
   "cell_type": "code",
   "execution_count": 12,
   "metadata": {},
   "outputs": [
    {
     "data": {
      "text/plain": [
       "<sqlalchemy.engine.cursor.LegacyCursorResult at 0x7f652a8ecac0>"
      ]
     },
     "execution_count": 12,
     "metadata": {},
     "output_type": "execute_result"
    }
   ],
   "source": [
    "engine.execute(ano_table.insert().values(ano_dict))\n",
    "engine.execute(idade_table.insert().values(idade_dict))\n",
    "engine.execute(sexo_table.insert().values(sexo_dict))\n",
    "engine.execute(inicio_grad_table.insert().values(ano_in_grad_dict))\n",
    "engine.execute(fim_EM_table.insert().values(ano_fim_EM_dict))"
   ]
  },
  {
   "cell_type": "code",
   "execution_count": 13,
   "metadata": {},
   "outputs": [],
   "source": [
    "estado_dict = [{\n",
    "  \"Id\":id, \"Nome\":nome\n",
    "}\n",
    "for id, nome in variables_dict[\"Estado\"]\n",
    "]\n",
    "\n",
    "grupo_dict = [{\n",
    "  \"Id\":id, \"Nome\":nome\n",
    "}\n",
    "for id, nome in variables_dict[\"Grupo\"]\n",
    "]\n",
    "\n",
    "modalidade_dict = [{\n",
    "  \"Id\":id, \"Nome\":nome\n",
    "}\n",
    "for id, nome in variables_dict[\"Modalidade\"]\n",
    "]\n",
    "\n",
    "organizacao_dict = [{\n",
    "  \"Id\":id, \"Nome\":nome\n",
    "}\n",
    "for id, nome in variables_dict[\"Organizacao\"]\n",
    "]\n",
    "\n",
    "regiao_dict = [{\n",
    "  \"Id\":id, \"Nome\":nome\n",
    "}\n",
    "for id, nome in variables_dict[\"Regiao\"]\n",
    "]\n",
    "\n",
    "turno_dict = [{\n",
    "  \"Id\":id, \"Nome\":nome\n",
    "}\n",
    "for id, nome in variables_dict[\"Turno\"]\n",
    "]"
   ]
  },
  {
   "cell_type": "code",
   "execution_count": 14,
   "metadata": {},
   "outputs": [
    {
     "data": {
      "text/plain": [
       "<sqlalchemy.engine.cursor.LegacyCursorResult at 0x7f652a97cc40>"
      ]
     },
     "execution_count": 14,
     "metadata": {},
     "output_type": "execute_result"
    }
   ],
   "source": [
    "engine.execute(estado_table.insert().values(estado_dict))\n",
    "engine.execute(grupo_table.insert().values(grupo_dict))\n",
    "engine.execute(modalidade_table.insert().values(modalidade_dict))\n",
    "engine.execute(organizacao_table.insert().values(organizacao_dict))\n",
    "engine.execute(regiao_table.insert().values(regiao_dict))\n",
    "engine.execute(turno_table.insert().values(turno_dict))"
   ]
  },
  {
   "cell_type": "code",
   "execution_count": 15,
   "metadata": {},
   "outputs": [
    {
     "data": {
      "text/html": [
       "<div>\n",
       "<style scoped>\n",
       "    .dataframe tbody tr th:only-of-type {\n",
       "        vertical-align: middle;\n",
       "    }\n",
       "\n",
       "    .dataframe tbody tr th {\n",
       "        vertical-align: top;\n",
       "    }\n",
       "\n",
       "    .dataframe thead th {\n",
       "        text-align: right;\n",
       "    }\n",
       "</style>\n",
       "<table border=\"1\" class=\"dataframe\">\n",
       "  <thead>\n",
       "    <tr style=\"text-align: right;\">\n",
       "      <th></th>\n",
       "      <th>Id</th>\n",
       "      <th>Nome</th>\n",
       "    </tr>\n",
       "  </thead>\n",
       "  <tbody>\n",
       "    <tr>\n",
       "      <th>0</th>\n",
       "      <td>1</td>\n",
       "      <td>ADMINISTRAÇÃO</td>\n",
       "    </tr>\n",
       "    <tr>\n",
       "      <th>1</th>\n",
       "      <td>2</td>\n",
       "      <td>DIREITO</td>\n",
       "    </tr>\n",
       "    <tr>\n",
       "      <th>2</th>\n",
       "      <td>5</td>\n",
       "      <td>MEDICINA VETERINÁRIA</td>\n",
       "    </tr>\n",
       "    <tr>\n",
       "      <th>3</th>\n",
       "      <td>6</td>\n",
       "      <td>ODONTOLOGIA</td>\n",
       "    </tr>\n",
       "    <tr>\n",
       "      <th>4</th>\n",
       "      <td>12</td>\n",
       "      <td>MEDICINA</td>\n",
       "    </tr>\n",
       "    <tr>\n",
       "      <th>5</th>\n",
       "      <td>13</td>\n",
       "      <td>CIÊNCIAS ECONÔMICAS</td>\n",
       "    </tr>\n",
       "    <tr>\n",
       "      <th>6</th>\n",
       "      <td>17</td>\n",
       "      <td>AGRONOMIA</td>\n",
       "    </tr>\n",
       "    <tr>\n",
       "      <th>7</th>\n",
       "      <td>18</td>\n",
       "      <td>PSICOLOGIA</td>\n",
       "    </tr>\n",
       "    <tr>\n",
       "      <th>8</th>\n",
       "      <td>19</td>\n",
       "      <td>FARMÁCIA</td>\n",
       "    </tr>\n",
       "    <tr>\n",
       "      <th>9</th>\n",
       "      <td>21</td>\n",
       "      <td>ARQUITETURA E URBANISMO</td>\n",
       "    </tr>\n",
       "  </tbody>\n",
       "</table>\n",
       "</div>"
      ],
      "text/plain": [
       "   Id                     Nome\n",
       "0   1            ADMINISTRAÇÃO\n",
       "1   2                  DIREITO\n",
       "2   5     MEDICINA VETERINÁRIA\n",
       "3   6              ODONTOLOGIA\n",
       "4  12                 MEDICINA\n",
       "5  13      CIÊNCIAS ECONÔMICAS\n",
       "6  17                AGRONOMIA\n",
       "7  18               PSICOLOGIA\n",
       "8  19                 FARMÁCIA\n",
       "9  21  ARQUITETURA E URBANISMO"
      ]
     },
     "execution_count": 15,
     "metadata": {},
     "output_type": "execute_result"
    }
   ],
   "source": [
    "#script para verificar inserção no banco\n",
    "\n",
    "pd.read_sql(\n",
    "  \"SELECT * FROM Grupo LIMIT 10\", engine\n",
    ")"
   ]
  },
  {
   "cell_type": "markdown",
   "metadata": {},
   "source": [
    "### Parte 6: Inserção dos dados na tabela fato"
   ]
  },
  {
   "cell_type": "code",
   "execution_count": 16,
   "metadata": {},
   "outputs": [],
   "source": [
    "from copy import deepcopy\n",
    "\n",
    "prova_df = deepcopy(dimensions_df)"
   ]
  },
  {
   "cell_type": "markdown",
   "metadata": {},
   "source": [
    "Aqui há uma breve limpeza pois percebi que o dataframe `prova_df` continha valores em que a Modalidade é 2, o que é claramente um erro."
   ]
  },
  {
   "cell_type": "code",
   "execution_count": 17,
   "metadata": {},
   "outputs": [],
   "source": [
    "prova_df = prova_df.drop(prova_df[prova_df.Modalidade > 1].index)"
   ]
  },
  {
   "cell_type": "code",
   "execution_count": 18,
   "metadata": {},
   "outputs": [],
   "source": [
    "prova_dict = prova_df.astype({\n",
    "  \"Modalidade\":int, \"Idade\":int, \"Estado\":int, \"Grupo\":int, \"Organizacao\":int, \"Regiao\":int, \"Sexo\":str,\n",
    "  \"Inicio_graduacao\": int, \"Fim_EM\": int, \"Turno\": int, \"Ano\": int\n",
    "}).to_dict(orient='records')"
   ]
  },
  {
   "cell_type": "markdown",
   "metadata": {},
   "source": [
    "A única modificação nesse ponto no que diz respeito à parte 5 é o fato de que o sistema não aguentou milhões de linhas sendo inseridas simultaneamente. Por isso, o dataframe foi dividido em batches de tamanho 1000 para realizar a inserção.\n",
    "\n",
    "Nesse caso, aproveitei para utilizar a biblioteca [tqdm](https://tqdm.github.io/) para mostrar a barra de progresso."
   ]
  },
  {
   "cell_type": "code",
   "execution_count": 19,
   "metadata": {},
   "outputs": [
    {
     "name": "stderr",
     "output_type": "stream",
     "text": [
      "Inserindo batches no banco: 100%|██████████| 1226/1226 [05:35<00:00,  3.66it/s]\n"
     ]
    }
   ],
   "source": [
    "from tqdm import tqdm\n",
    "\n",
    "cursor = 0\n",
    "batch_size = 1000\n",
    "for i in tqdm(range(batch_size, len(prova_dict) + batch_size, batch_size), desc='Inserindo batches no banco'):\n",
    "  if i >= len(prova_dict):\n",
    "    engine.execute(prova_table.insert().values(prova_dict[cursor:]))\n",
    "  else:\n",
    "    engine.execute(prova_table.insert().values(prova_dict[cursor:i]))\n",
    "    cursor = i"
   ]
  },
  {
   "cell_type": "code",
   "execution_count": 20,
   "metadata": {},
   "outputs": [
    {
     "data": {
      "text/html": [
       "<div>\n",
       "<style scoped>\n",
       "    .dataframe tbody tr th:only-of-type {\n",
       "        vertical-align: middle;\n",
       "    }\n",
       "\n",
       "    .dataframe tbody tr th {\n",
       "        vertical-align: top;\n",
       "    }\n",
       "\n",
       "    .dataframe thead th {\n",
       "        text-align: right;\n",
       "    }\n",
       "</style>\n",
       "<table border=\"1\" class=\"dataframe\">\n",
       "  <thead>\n",
       "    <tr style=\"text-align: right;\">\n",
       "      <th></th>\n",
       "      <th>Modalidade</th>\n",
       "      <th>Organizacao</th>\n",
       "      <th>Grupo</th>\n",
       "      <th>Turno</th>\n",
       "      <th>Estado</th>\n",
       "      <th>Regiao</th>\n",
       "      <th>Sexo</th>\n",
       "      <th>Ano</th>\n",
       "      <th>Inicio_graduacao</th>\n",
       "      <th>Fim_EM</th>\n",
       "      <th>Idade</th>\n",
       "    </tr>\n",
       "  </thead>\n",
       "  <tbody>\n",
       "    <tr>\n",
       "      <th>0</th>\n",
       "      <td>1</td>\n",
       "      <td>10028</td>\n",
       "      <td>5710</td>\n",
       "      <td>3</td>\n",
       "      <td>51</td>\n",
       "      <td>5</td>\n",
       "      <td>F</td>\n",
       "      <td>2017</td>\n",
       "      <td>2012</td>\n",
       "      <td>2007</td>\n",
       "      <td>26</td>\n",
       "    </tr>\n",
       "    <tr>\n",
       "      <th>1</th>\n",
       "      <td>1</td>\n",
       "      <td>10028</td>\n",
       "      <td>5710</td>\n",
       "      <td>3</td>\n",
       "      <td>51</td>\n",
       "      <td>5</td>\n",
       "      <td>F</td>\n",
       "      <td>2017</td>\n",
       "      <td>2013</td>\n",
       "      <td>2013</td>\n",
       "      <td>23</td>\n",
       "    </tr>\n",
       "    <tr>\n",
       "      <th>2</th>\n",
       "      <td>1</td>\n",
       "      <td>10028</td>\n",
       "      <td>5710</td>\n",
       "      <td>3</td>\n",
       "      <td>51</td>\n",
       "      <td>5</td>\n",
       "      <td>M</td>\n",
       "      <td>2017</td>\n",
       "      <td>2013</td>\n",
       "      <td>2011</td>\n",
       "      <td>23</td>\n",
       "    </tr>\n",
       "    <tr>\n",
       "      <th>3</th>\n",
       "      <td>1</td>\n",
       "      <td>10028</td>\n",
       "      <td>5710</td>\n",
       "      <td>3</td>\n",
       "      <td>51</td>\n",
       "      <td>5</td>\n",
       "      <td>M</td>\n",
       "      <td>2017</td>\n",
       "      <td>2013</td>\n",
       "      <td>2011</td>\n",
       "      <td>23</td>\n",
       "    </tr>\n",
       "    <tr>\n",
       "      <th>4</th>\n",
       "      <td>1</td>\n",
       "      <td>10028</td>\n",
       "      <td>5710</td>\n",
       "      <td>3</td>\n",
       "      <td>51</td>\n",
       "      <td>5</td>\n",
       "      <td>M</td>\n",
       "      <td>2017</td>\n",
       "      <td>2013</td>\n",
       "      <td>2010</td>\n",
       "      <td>24</td>\n",
       "    </tr>\n",
       "    <tr>\n",
       "      <th>5</th>\n",
       "      <td>1</td>\n",
       "      <td>10028</td>\n",
       "      <td>5710</td>\n",
       "      <td>3</td>\n",
       "      <td>51</td>\n",
       "      <td>5</td>\n",
       "      <td>M</td>\n",
       "      <td>2017</td>\n",
       "      <td>2012</td>\n",
       "      <td>2011</td>\n",
       "      <td>23</td>\n",
       "    </tr>\n",
       "    <tr>\n",
       "      <th>6</th>\n",
       "      <td>1</td>\n",
       "      <td>10028</td>\n",
       "      <td>5710</td>\n",
       "      <td>3</td>\n",
       "      <td>51</td>\n",
       "      <td>5</td>\n",
       "      <td>F</td>\n",
       "      <td>2017</td>\n",
       "      <td>2013</td>\n",
       "      <td>2012</td>\n",
       "      <td>21</td>\n",
       "    </tr>\n",
       "    <tr>\n",
       "      <th>7</th>\n",
       "      <td>1</td>\n",
       "      <td>10028</td>\n",
       "      <td>5710</td>\n",
       "      <td>3</td>\n",
       "      <td>51</td>\n",
       "      <td>5</td>\n",
       "      <td>M</td>\n",
       "      <td>2017</td>\n",
       "      <td>2012</td>\n",
       "      <td>2011</td>\n",
       "      <td>23</td>\n",
       "    </tr>\n",
       "    <tr>\n",
       "      <th>8</th>\n",
       "      <td>1</td>\n",
       "      <td>10028</td>\n",
       "      <td>5710</td>\n",
       "      <td>3</td>\n",
       "      <td>51</td>\n",
       "      <td>5</td>\n",
       "      <td>F</td>\n",
       "      <td>2017</td>\n",
       "      <td>2013</td>\n",
       "      <td>2011</td>\n",
       "      <td>23</td>\n",
       "    </tr>\n",
       "    <tr>\n",
       "      <th>9</th>\n",
       "      <td>1</td>\n",
       "      <td>10028</td>\n",
       "      <td>5710</td>\n",
       "      <td>3</td>\n",
       "      <td>51</td>\n",
       "      <td>5</td>\n",
       "      <td>F</td>\n",
       "      <td>2017</td>\n",
       "      <td>2013</td>\n",
       "      <td>2011</td>\n",
       "      <td>22</td>\n",
       "    </tr>\n",
       "  </tbody>\n",
       "</table>\n",
       "</div>"
      ],
      "text/plain": [
       "   Modalidade  Organizacao  Grupo  Turno  Estado  Regiao Sexo   Ano  \\\n",
       "0           1        10028   5710      3      51       5    F  2017   \n",
       "1           1        10028   5710      3      51       5    F  2017   \n",
       "2           1        10028   5710      3      51       5    M  2017   \n",
       "3           1        10028   5710      3      51       5    M  2017   \n",
       "4           1        10028   5710      3      51       5    M  2017   \n",
       "5           1        10028   5710      3      51       5    M  2017   \n",
       "6           1        10028   5710      3      51       5    F  2017   \n",
       "7           1        10028   5710      3      51       5    M  2017   \n",
       "8           1        10028   5710      3      51       5    F  2017   \n",
       "9           1        10028   5710      3      51       5    F  2017   \n",
       "\n",
       "   Inicio_graduacao  Fim_EM  Idade  \n",
       "0              2012    2007     26  \n",
       "1              2013    2013     23  \n",
       "2              2013    2011     23  \n",
       "3              2013    2011     23  \n",
       "4              2013    2010     24  \n",
       "5              2012    2011     23  \n",
       "6              2013    2012     21  \n",
       "7              2012    2011     23  \n",
       "8              2013    2011     23  \n",
       "9              2013    2011     22  "
      ]
     },
     "execution_count": 20,
     "metadata": {},
     "output_type": "execute_result"
    }
   ],
   "source": [
    "pd.read_sql(\n",
    "  \"SELECT * FROM Prova LIMIT 10\", engine\n",
    ")"
   ]
  },
  {
   "cell_type": "markdown",
   "metadata": {},
   "source": [
    "## Questão 5"
   ]
  },
  {
   "cell_type": "markdown",
   "metadata": {},
   "source": [
    "### Perguntas a serem levantadas sobre os dados:\n",
    "\n",
    "1. **Qual tipo de organização mais participou do ENADE?**\n",
    "2. **Em média, quanto tempo um aluno demora para iniciar a graduação a partir do fim do Ensino Médio?**\n",
    "3. **Quais estados apresentam maior participação no ENADE, ou seja, quais estados possuem mais alunos em algum tipo de Ensino Superior?**\n",
    "4. **Há alguma relação entre o Turno e a Idade dos participantes?**\n",
    "5. **Quais grupos menos participaram da Prova, isto é, quais tipos de cursos tem menor formação de profissionais?**\n",
    "\n",
    "Para essa questão utilizei [pandas](https://pandas.pydata.org/) junto com linguagem SQL e a biblioteca [seaborn](https://seaborn.pydata.org/) para visualização dos dados."
   ]
  },
  {
   "cell_type": "markdown",
   "metadata": {},
   "source": [
    "### Pergunta 1: Qual tipo de organização mais participou do ENADE?"
   ]
  },
  {
   "cell_type": "code",
   "execution_count": 21,
   "metadata": {},
   "outputs": [
    {
     "data": {
      "text/html": [
       "<div>\n",
       "<style scoped>\n",
       "    .dataframe tbody tr th:only-of-type {\n",
       "        vertical-align: middle;\n",
       "    }\n",
       "\n",
       "    .dataframe tbody tr th {\n",
       "        vertical-align: top;\n",
       "    }\n",
       "\n",
       "    .dataframe thead th {\n",
       "        text-align: right;\n",
       "    }\n",
       "</style>\n",
       "<table border=\"1\" class=\"dataframe\">\n",
       "  <thead>\n",
       "    <tr style=\"text-align: right;\">\n",
       "      <th></th>\n",
       "      <th>Organizacao</th>\n",
       "      <th>Quantidade</th>\n",
       "    </tr>\n",
       "  </thead>\n",
       "  <tbody>\n",
       "    <tr>\n",
       "      <th>0</th>\n",
       "      <td>Universidade</td>\n",
       "      <td>625883</td>\n",
       "    </tr>\n",
       "    <tr>\n",
       "      <th>1</th>\n",
       "      <td>Faculdade</td>\n",
       "      <td>289560</td>\n",
       "    </tr>\n",
       "    <tr>\n",
       "      <th>2</th>\n",
       "      <td>Centro Universitário</td>\n",
       "      <td>285339</td>\n",
       "    </tr>\n",
       "    <tr>\n",
       "      <th>3</th>\n",
       "      <td>Instituto Federal de Educação, Ciência e Tecno...</td>\n",
       "      <td>22780</td>\n",
       "    </tr>\n",
       "    <tr>\n",
       "      <th>4</th>\n",
       "      <td>Centro Federal de Educação Tecnológica</td>\n",
       "      <td>2424</td>\n",
       "    </tr>\n",
       "  </tbody>\n",
       "</table>\n",
       "</div>"
      ],
      "text/plain": [
       "                                         Organizacao  Quantidade\n",
       "0                                       Universidade      625883\n",
       "1                                         Faculdade       289560\n",
       "2                               Centro Universitário      285339\n",
       "3  Instituto Federal de Educação, Ciência e Tecno...       22780\n",
       "4             Centro Federal de Educação Tecnológica        2424"
      ]
     },
     "execution_count": 21,
     "metadata": {},
     "output_type": "execute_result"
    }
   ],
   "source": [
    "df = pd.read_sql(\n",
    "  \"\"\"\n",
    "  SELECT Organizacao.Nome as Organizacao, count(*) as Quantidade\n",
    "  FROM Prova INNER JOIN Organizacao\n",
    "  on Prova.Organizacao = Organizacao.Id\n",
    "  GROUP BY Organizacao\n",
    "  ORDER BY Quantidade DESC\n",
    "  \"\"\", \n",
    "  engine\n",
    ")\n",
    "df"
   ]
  },
  {
   "cell_type": "code",
   "execution_count": 22,
   "metadata": {},
   "outputs": [
    {
     "data": {
      "text/plain": [
       "<AxesSubplot:xlabel='Organizacao', ylabel='Quantidade'>"
      ]
     },
     "execution_count": 22,
     "metadata": {},
     "output_type": "execute_result"
    },
    {
     "data": {
      "image/png": "[encoded data removed]",
      "text/plain": [
       "<Figure size 1440x432 with 1 Axes>"
      ]
     },
     "metadata": {
      "needs_background": "light"
     },
     "output_type": "display_data"
    }
   ],
   "source": [
    "import seaborn as sns\n",
    "from matplotlib import pyplot as plt\n",
    "\n",
    "fig_dims = (20, 6)\n",
    "fig, ax = plt.subplots(figsize=fig_dims)\n",
    "sns.barplot(x=df['Organizacao'], y=df['Quantidade'], ax=ax)"
   ]
  },
  {
   "cell_type": "markdown",
   "metadata": {},
   "source": [
    "Universidades são o claro vencedor nessa categoria."
   ]
  },
  {
   "cell_type": "markdown",
   "metadata": {},
   "source": [
    "### Pergunta 2: Em média, quanto tempo um aluno demora para iniciar a graduação a partir do fim do Ensino Médio?"
   ]
  },
  {
   "cell_type": "code",
   "execution_count": 23,
   "metadata": {},
   "outputs": [
    {
     "data": {
      "text/html": [
       "<div>\n",
       "<style scoped>\n",
       "    .dataframe tbody tr th:only-of-type {\n",
       "        vertical-align: middle;\n",
       "    }\n",
       "\n",
       "    .dataframe tbody tr th {\n",
       "        vertical-align: top;\n",
       "    }\n",
       "\n",
       "    .dataframe thead th {\n",
       "        text-align: right;\n",
       "    }\n",
       "</style>\n",
       "<table border=\"1\" class=\"dataframe\">\n",
       "  <thead>\n",
       "    <tr style=\"text-align: right;\">\n",
       "      <th></th>\n",
       "      <th>Quantidade</th>\n",
       "    </tr>\n",
       "    <tr>\n",
       "      <th>Intervalo</th>\n",
       "      <th></th>\n",
       "    </tr>\n",
       "  </thead>\n",
       "  <tbody>\n",
       "    <tr>\n",
       "      <th>0</th>\n",
       "      <td>22607</td>\n",
       "    </tr>\n",
       "    <tr>\n",
       "      <th>1</th>\n",
       "      <td>417189</td>\n",
       "    </tr>\n",
       "    <tr>\n",
       "      <th>2</th>\n",
       "      <td>163719</td>\n",
       "    </tr>\n",
       "    <tr>\n",
       "      <th>3</th>\n",
       "      <td>102143</td>\n",
       "    </tr>\n",
       "    <tr>\n",
       "      <th>4</th>\n",
       "      <td>77281</td>\n",
       "    </tr>\n",
       "  </tbody>\n",
       "</table>\n",
       "</div>"
      ],
      "text/plain": [
       "           Quantidade\n",
       "Intervalo            \n",
       "0               22607\n",
       "1              417189\n",
       "2              163719\n",
       "3              102143\n",
       "4               77281"
      ]
     },
     "execution_count": 23,
     "metadata": {},
     "output_type": "execute_result"
    }
   ],
   "source": [
    "df = pd.read_sql(\n",
    "  \"\"\"\n",
    "  SELECT Inicio_graduacao, Fim_EM\n",
    "  FROM Prova\n",
    "  WHERE Inicio_graduacao >= Fim_EM\n",
    "  \"\"\",\n",
    "  engine\n",
    ")\n",
    "\n",
    "df['Intervalo'] = df['Inicio_graduacao'] - df['Fim_EM']\n",
    "df = df[df.Intervalo < 60]\n",
    "table = df.groupby('Intervalo').count().drop('Fim_EM', axis=1).rename(columns={'Inicio_graduacao': 'Quantidade'})\n",
    "table.head()"
   ]
  },
  {
   "cell_type": "code",
   "execution_count": 24,
   "metadata": {},
   "outputs": [
    {
     "name": "stdout",
     "output_type": "stream",
     "text": [
      "A média é de aproximadamente 5 anos de intervalo\n"
     ]
    },
    {
     "name": "stderr",
     "output_type": "stream",
     "text": [
      "/home/eduardo/anaconda3/envs/dw/lib/python3.9/site-packages/seaborn/_decorators.py:36: FutureWarning: Pass the following variable as a keyword arg: x. From version 0.12, the only valid positional argument will be `data`, and passing other arguments without an explicit keyword will result in an error or misinterpretation.\n",
      "  warnings.warn(\n"
     ]
    },
    {
     "data": {
      "text/plain": [
       "<AxesSubplot:xlabel='Intervalo'>"
      ]
     },
     "execution_count": 24,
     "metadata": {},
     "output_type": "execute_result"
    },
    {
     "data": {
      "image/png": "[encoded data removed]",
      "text/plain": [
       "<Figure size 432x288 with 1 Axes>"
      ]
     },
     "metadata": {
      "needs_background": "light"
     },
     "output_type": "display_data"
    }
   ],
   "source": [
    "print('A média é de aproximadamente', int(np.round(np.mean(df.Intervalo.to_numpy()))), 'anos de intervalo')\n",
    "sns.boxplot(df.Intervalo)"
   ]
  },
  {
   "cell_type": "markdown",
   "metadata": {},
   "source": [
    "### Pergunta 3: Quais estados apresentam maior participação no ENADE, ou seja, quais estados possuem mais alunos em algum tipo de Ensino Superior?"
   ]
  },
  {
   "cell_type": "code",
   "execution_count": 25,
   "metadata": {},
   "outputs": [
    {
     "data": {
      "text/html": [
       "<div>\n",
       "<style scoped>\n",
       "    .dataframe tbody tr th:only-of-type {\n",
       "        vertical-align: middle;\n",
       "    }\n",
       "\n",
       "    .dataframe tbody tr th {\n",
       "        vertical-align: top;\n",
       "    }\n",
       "\n",
       "    .dataframe thead th {\n",
       "        text-align: right;\n",
       "    }\n",
       "</style>\n",
       "<table border=\"1\" class=\"dataframe\">\n",
       "  <thead>\n",
       "    <tr style=\"text-align: right;\">\n",
       "      <th></th>\n",
       "      <th>Estado</th>\n",
       "      <th>Quantidade</th>\n",
       "    </tr>\n",
       "  </thead>\n",
       "  <tbody>\n",
       "    <tr>\n",
       "      <th>0</th>\n",
       "      <td>São Paulo</td>\n",
       "      <td>309034</td>\n",
       "    </tr>\n",
       "    <tr>\n",
       "      <th>1</th>\n",
       "      <td>Minas gerais</td>\n",
       "      <td>136110</td>\n",
       "    </tr>\n",
       "    <tr>\n",
       "      <th>2</th>\n",
       "      <td>Rio de Janeiro</td>\n",
       "      <td>112957</td>\n",
       "    </tr>\n",
       "    <tr>\n",
       "      <th>3</th>\n",
       "      <td>Paraná</td>\n",
       "      <td>96797</td>\n",
       "    </tr>\n",
       "    <tr>\n",
       "      <th>4</th>\n",
       "      <td>Rio Grande do Sul</td>\n",
       "      <td>66953</td>\n",
       "    </tr>\n",
       "    <tr>\n",
       "      <th>5</th>\n",
       "      <td>Santa Catarina</td>\n",
       "      <td>55689</td>\n",
       "    </tr>\n",
       "    <tr>\n",
       "      <th>6</th>\n",
       "      <td>Bahia</td>\n",
       "      <td>51261</td>\n",
       "    </tr>\n",
       "    <tr>\n",
       "      <th>7</th>\n",
       "      <td>Pernambuco</td>\n",
       "      <td>46121</td>\n",
       "    </tr>\n",
       "    <tr>\n",
       "      <th>8</th>\n",
       "      <td>Ceará</td>\n",
       "      <td>40571</td>\n",
       "    </tr>\n",
       "    <tr>\n",
       "      <th>9</th>\n",
       "      <td>Goiás</td>\n",
       "      <td>36784</td>\n",
       "    </tr>\n",
       "    <tr>\n",
       "      <th>10</th>\n",
       "      <td>Distrito federal</td>\n",
       "      <td>29411</td>\n",
       "    </tr>\n",
       "    <tr>\n",
       "      <th>11</th>\n",
       "      <td>Pará</td>\n",
       "      <td>28311</td>\n",
       "    </tr>\n",
       "    <tr>\n",
       "      <th>12</th>\n",
       "      <td>Amazonas</td>\n",
       "      <td>22950</td>\n",
       "    </tr>\n",
       "    <tr>\n",
       "      <th>13</th>\n",
       "      <td>Maranhão</td>\n",
       "      <td>21593</td>\n",
       "    </tr>\n",
       "    <tr>\n",
       "      <th>14</th>\n",
       "      <td>Paraíba</td>\n",
       "      <td>21467</td>\n",
       "    </tr>\n",
       "    <tr>\n",
       "      <th>15</th>\n",
       "      <td>Espírito Santo</td>\n",
       "      <td>19005</td>\n",
       "    </tr>\n",
       "    <tr>\n",
       "      <th>16</th>\n",
       "      <td>Mato Grosso do Sul</td>\n",
       "      <td>18778</td>\n",
       "    </tr>\n",
       "    <tr>\n",
       "      <th>17</th>\n",
       "      <td>Piauí</td>\n",
       "      <td>18643</td>\n",
       "    </tr>\n",
       "    <tr>\n",
       "      <th>18</th>\n",
       "      <td>Rio Grande do Norte</td>\n",
       "      <td>18551</td>\n",
       "    </tr>\n",
       "    <tr>\n",
       "      <th>19</th>\n",
       "      <td>Mato Grosso</td>\n",
       "      <td>18207</td>\n",
       "    </tr>\n",
       "    <tr>\n",
       "      <th>20</th>\n",
       "      <td>Alagoas</td>\n",
       "      <td>15808</td>\n",
       "    </tr>\n",
       "    <tr>\n",
       "      <th>21</th>\n",
       "      <td>Sergipe</td>\n",
       "      <td>11330</td>\n",
       "    </tr>\n",
       "    <tr>\n",
       "      <th>22</th>\n",
       "      <td>Tocantins</td>\n",
       "      <td>10207</td>\n",
       "    </tr>\n",
       "    <tr>\n",
       "      <th>23</th>\n",
       "      <td>Rondônia</td>\n",
       "      <td>7735</td>\n",
       "    </tr>\n",
       "    <tr>\n",
       "      <th>24</th>\n",
       "      <td>Amapa</td>\n",
       "      <td>4762</td>\n",
       "    </tr>\n",
       "    <tr>\n",
       "      <th>25</th>\n",
       "      <td>Acre</td>\n",
       "      <td>3855</td>\n",
       "    </tr>\n",
       "    <tr>\n",
       "      <th>26</th>\n",
       "      <td>Roraima</td>\n",
       "      <td>3096</td>\n",
       "    </tr>\n",
       "  </tbody>\n",
       "</table>\n",
       "</div>"
      ],
      "text/plain": [
       "                 Estado  Quantidade\n",
       "0             São Paulo      309034\n",
       "1          Minas gerais      136110\n",
       "2        Rio de Janeiro      112957\n",
       "3                Paraná       96797\n",
       "4     Rio Grande do Sul       66953\n",
       "5        Santa Catarina       55689\n",
       "6                 Bahia       51261\n",
       "7            Pernambuco       46121\n",
       "8                 Ceará       40571\n",
       "9                 Goiás       36784\n",
       "10     Distrito federal       29411\n",
       "11                 Pará       28311\n",
       "12             Amazonas       22950\n",
       "13             Maranhão       21593\n",
       "14              Paraíba       21467\n",
       "15       Espírito Santo       19005\n",
       "16   Mato Grosso do Sul       18778\n",
       "17                Piauí       18643\n",
       "18  Rio Grande do Norte       18551\n",
       "19          Mato Grosso       18207\n",
       "20              Alagoas       15808\n",
       "21              Sergipe       11330\n",
       "22            Tocantins       10207\n",
       "23             Rondônia        7735\n",
       "24                Amapa        4762\n",
       "25                 Acre        3855\n",
       "26              Roraima        3096"
      ]
     },
     "execution_count": 25,
     "metadata": {},
     "output_type": "execute_result"
    }
   ],
   "source": [
    "df = pd.read_sql(\n",
    "  \"\"\"\n",
    "  SELECT Estado.Nome as Estado, count(Estado) as Quantidade\n",
    "  FROM Prova INNER JOIN Estado\n",
    "  ON Prova.Estado = Estado.Id\n",
    "  GROUP BY Estado\n",
    "  ORDER BY Quantidade DESC\n",
    "  \"\"\",\n",
    "  engine\n",
    ")\n",
    "df"
   ]
  },
  {
   "cell_type": "code",
   "execution_count": 26,
   "metadata": {},
   "outputs": [
    {
     "data": {
      "text/plain": [
       "<AxesSubplot:xlabel='Estado', ylabel='Quantidade'>"
      ]
     },
     "execution_count": 26,
     "metadata": {},
     "output_type": "execute_result"
    },
    {
     "data": {
      "image/png": "[encoded data removed]",
      "text/plain": [
       "<Figure size 1080x432 with 1 Axes>"
      ]
     },
     "metadata": {
      "needs_background": "light"
     },
     "output_type": "display_data"
    }
   ],
   "source": [
    "# Vou plotar apenas os 5 maiores\n",
    "show = df[df.index <5]\n",
    "\n",
    "fig_dims = (15, 6)\n",
    "fig, ax = plt.subplots(figsize=fig_dims)\n",
    "sns.barplot(x=show['Estado'], y=show['Quantidade'], ax=ax)"
   ]
  },
  {
   "cell_type": "markdown",
   "metadata": {},
   "source": [
    "Claramente, o estado de São Paulo é disparado o que põe mais alunos na universidade."
   ]
  },
  {
   "cell_type": "markdown",
   "metadata": {},
   "source": [
    "### Pergunta 4: Há alguma relação entre o turno e a idade dos participantes?"
   ]
  },
  {
   "cell_type": "code",
   "execution_count": 27,
   "metadata": {},
   "outputs": [
    {
     "data": {
      "text/html": [
       "<div>\n",
       "<style scoped>\n",
       "    .dataframe tbody tr th:only-of-type {\n",
       "        vertical-align: middle;\n",
       "    }\n",
       "\n",
       "    .dataframe tbody tr th {\n",
       "        vertical-align: top;\n",
       "    }\n",
       "\n",
       "    .dataframe thead th {\n",
       "        text-align: right;\n",
       "    }\n",
       "</style>\n",
       "<table border=\"1\" class=\"dataframe\">\n",
       "  <thead>\n",
       "    <tr style=\"text-align: right;\">\n",
       "      <th></th>\n",
       "      <th>Turno</th>\n",
       "      <th>Idade</th>\n",
       "    </tr>\n",
       "  </thead>\n",
       "  <tbody>\n",
       "    <tr>\n",
       "      <th>5</th>\n",
       "      <td>Noturno</td>\n",
       "      <td>16</td>\n",
       "    </tr>\n",
       "    <tr>\n",
       "      <th>6</th>\n",
       "      <td>Noturno</td>\n",
       "      <td>17</td>\n",
       "    </tr>\n",
       "    <tr>\n",
       "      <th>7</th>\n",
       "      <td>Integral</td>\n",
       "      <td>17</td>\n",
       "    </tr>\n",
       "    <tr>\n",
       "      <th>8</th>\n",
       "      <td>Noturno</td>\n",
       "      <td>17</td>\n",
       "    </tr>\n",
       "    <tr>\n",
       "      <th>9</th>\n",
       "      <td>Vespertino</td>\n",
       "      <td>17</td>\n",
       "    </tr>\n",
       "    <tr>\n",
       "      <th>...</th>\n",
       "      <td>...</td>\n",
       "      <td>...</td>\n",
       "    </tr>\n",
       "    <tr>\n",
       "      <th>1225981</th>\n",
       "      <td>Noturno</td>\n",
       "      <td>87</td>\n",
       "    </tr>\n",
       "    <tr>\n",
       "      <th>1225982</th>\n",
       "      <td>Matutino</td>\n",
       "      <td>90</td>\n",
       "    </tr>\n",
       "    <tr>\n",
       "      <th>1225983</th>\n",
       "      <td>Noturno</td>\n",
       "      <td>94</td>\n",
       "    </tr>\n",
       "    <tr>\n",
       "      <th>1225984</th>\n",
       "      <td>Matutino</td>\n",
       "      <td>94</td>\n",
       "    </tr>\n",
       "    <tr>\n",
       "      <th>1225985</th>\n",
       "      <td>Noturno</td>\n",
       "      <td>95</td>\n",
       "    </tr>\n",
       "  </tbody>\n",
       "</table>\n",
       "<p>1225981 rows × 2 columns</p>\n",
       "</div>"
      ],
      "text/plain": [
       "              Turno  Idade\n",
       "5           Noturno     16\n",
       "6           Noturno     17\n",
       "7          Integral     17\n",
       "8           Noturno     17\n",
       "9        Vespertino     17\n",
       "...             ...    ...\n",
       "1225981     Noturno     87\n",
       "1225982    Matutino     90\n",
       "1225983     Noturno     94\n",
       "1225984    Matutino     94\n",
       "1225985     Noturno     95\n",
       "\n",
       "[1225981 rows x 2 columns]"
      ]
     },
     "execution_count": 27,
     "metadata": {},
     "output_type": "execute_result"
    }
   ],
   "source": [
    "df = pd.read_sql(\n",
    "  \"\"\"\n",
    "  SELECT Turno.Nome as Turno, Prova.Idade as Idade\n",
    "  FROM Prova INNER JOIN Turno\n",
    "  ON Prova.Turno = Turno.Id\n",
    "  ORDER BY Idade ASC\n",
    "  \"\"\",\n",
    "  engine\n",
    ")\n",
    "df = df[df.Idade >= 16]\n",
    "df"
   ]
  },
  {
   "cell_type": "code",
   "execution_count": 28,
   "metadata": {},
   "outputs": [
    {
     "data": {
      "text/plain": [
       "<AxesSubplot:xlabel='Turno', ylabel='Idade'>"
      ]
     },
     "execution_count": 28,
     "metadata": {},
     "output_type": "execute_result"
    },
    {
     "data": {
      "image/png": "[encoded data removed]",
      "text/plain": [
       "<Figure size 864x432 with 1 Axes>"
      ]
     },
     "metadata": {
      "needs_background": "light"
     },
     "output_type": "display_data"
    }
   ],
   "source": [
    "fig_dims = (12, 6)\n",
    "fig, ax = plt.subplots(figsize=fig_dims)\n",
    "sns.boxplot(x=df.Turno, y=df.Idade, ax=ax)"
   ]
  },
  {
   "cell_type": "markdown",
   "metadata": {},
   "source": [
    "Com esse gráfico podemos ver que a idade não varia tanto com o turno, mas ele confirma a tese de que pessoas mais velhas tendem a ir para o turno Noturno."
   ]
  },
  {
   "cell_type": "markdown",
   "metadata": {},
   "source": [
    "### Pergunta 5: Quais grupos menos participaram da Prova, isto é, quais tipos de cursos tem menor formação de profissionais?"
   ]
  },
  {
   "cell_type": "code",
   "execution_count": 29,
   "metadata": {},
   "outputs": [
    {
     "data": {
      "text/html": [
       "<div>\n",
       "<style scoped>\n",
       "    .dataframe tbody tr th:only-of-type {\n",
       "        vertical-align: middle;\n",
       "    }\n",
       "\n",
       "    .dataframe tbody tr th {\n",
       "        vertical-align: top;\n",
       "    }\n",
       "\n",
       "    .dataframe thead th {\n",
       "        text-align: right;\n",
       "    }\n",
       "</style>\n",
       "<table border=\"1\" class=\"dataframe\">\n",
       "  <thead>\n",
       "    <tr style=\"text-align: right;\">\n",
       "      <th></th>\n",
       "      <th>Grupo</th>\n",
       "      <th>Quantidade</th>\n",
       "    </tr>\n",
       "  </thead>\n",
       "  <tbody>\n",
       "    <tr>\n",
       "      <th>0</th>\n",
       "      <td>TECNOLOGIA EM SEGURANÇA NO TRABALHO</td>\n",
       "      <td>100</td>\n",
       "    </tr>\n",
       "    <tr>\n",
       "      <th>1</th>\n",
       "      <td>TECNOLOGIA EM GESTÃO HOSPITALAR</td>\n",
       "      <td>439</td>\n",
       "    </tr>\n",
       "    <tr>\n",
       "      <th>2</th>\n",
       "      <td>Matemática (Bacharelado)</td>\n",
       "      <td>508</td>\n",
       "    </tr>\n",
       "    <tr>\n",
       "      <th>3</th>\n",
       "      <td>Letras-Português (Bacharelado)</td>\n",
       "      <td>698</td>\n",
       "    </tr>\n",
       "    <tr>\n",
       "      <th>4</th>\n",
       "      <td>Física (Bacharelado)</td>\n",
       "      <td>760</td>\n",
       "    </tr>\n",
       "    <tr>\n",
       "      <th>...</th>\n",
       "      <td>...</td>\n",
       "      <td>...</td>\n",
       "    </tr>\n",
       "    <tr>\n",
       "      <th>84</th>\n",
       "      <td>ARQUITETURA E URBANISMO</td>\n",
       "      <td>49087</td>\n",
       "    </tr>\n",
       "    <tr>\n",
       "      <th>85</th>\n",
       "      <td>ENGENHARIA CIVIL</td>\n",
       "      <td>89670</td>\n",
       "    </tr>\n",
       "    <tr>\n",
       "      <th>86</th>\n",
       "      <td>ADMINISTRAÇÃO</td>\n",
       "      <td>91252</td>\n",
       "    </tr>\n",
       "    <tr>\n",
       "      <th>87</th>\n",
       "      <td>Pedagogia (Licenciatura)</td>\n",
       "      <td>104068</td>\n",
       "    </tr>\n",
       "    <tr>\n",
       "      <th>88</th>\n",
       "      <td>DIREITO</td>\n",
       "      <td>145355</td>\n",
       "    </tr>\n",
       "  </tbody>\n",
       "</table>\n",
       "<p>89 rows × 2 columns</p>\n",
       "</div>"
      ],
      "text/plain": [
       "                                  Grupo  Quantidade\n",
       "0   TECNOLOGIA EM SEGURANÇA NO TRABALHO         100\n",
       "1       TECNOLOGIA EM GESTÃO HOSPITALAR         439\n",
       "2              Matemática (Bacharelado)         508\n",
       "3        Letras-Português (Bacharelado)         698\n",
       "4                  Física (Bacharelado)         760\n",
       "..                                  ...         ...\n",
       "84              ARQUITETURA E URBANISMO       49087\n",
       "85                     ENGENHARIA CIVIL       89670\n",
       "86                        ADMINISTRAÇÃO       91252\n",
       "87             Pedagogia (Licenciatura)      104068\n",
       "88                              DIREITO      145355\n",
       "\n",
       "[89 rows x 2 columns]"
      ]
     },
     "execution_count": 29,
     "metadata": {},
     "output_type": "execute_result"
    }
   ],
   "source": [
    "df = pd.read_sql(\n",
    "  \"\"\"\n",
    "  SELECT Grupo.Nome as Grupo, count(*) as Quantidade\n",
    "  FROM Prova INNER JOIN Grupo\n",
    "  on Prova.Grupo = Grupo.Id\n",
    "  GROUP BY Grupo\n",
    "  ORDER BY Quantidade ASC\n",
    "  \"\"\", \n",
    "  engine\n",
    ")\n",
    "df"
   ]
  },
  {
   "cell_type": "code",
   "execution_count": 30,
   "metadata": {},
   "outputs": [
    {
     "data": {
      "text/plain": [
       "<AxesSubplot:xlabel='Grupo', ylabel='Quantidade'>"
      ]
     },
     "execution_count": 30,
     "metadata": {},
     "output_type": "execute_result"
    },
    {
     "data": {
      "image/png": "[encoded data removed]",
      "text/plain": [
       "<Figure size 1440x432 with 1 Axes>"
      ]
     },
     "metadata": {
      "needs_background": "light"
     },
     "output_type": "display_data"
    }
   ],
   "source": [
    "# Vou plotar apenas os 5 menores\n",
    "show = df[df.index <5]\n",
    "\n",
    "fig_dims = (20, 6)\n",
    "fig, ax = plt.subplots(figsize=fig_dims)\n",
    "sns.barplot(x=show['Grupo'], y=show['Quantidade'], ax=ax)"
   ]
  },
  {
   "cell_type": "markdown",
   "metadata": {},
   "source": [
    "Fato interessante a se perceber é que três cursos de licenciatura muito forte são poucos procurados para o caso de bacharelado, isto é, compõe os 5 grupos com menor formação de profissionais."
   ]
  },
  {
   "cell_type": "markdown",
   "metadata": {},
   "source": [
    "## Questão 6"
   ]
  },
  {
   "cell_type": "markdown",
   "metadata": {},
   "source": [
    "**A proposta de aprendizado é a seguinte: dados os dados (Idade, Estado, Grupo, Turno, Organizacao e Modalidade), prever qual o sexo do aluno.**\n",
    "\n",
    "Aqui utilizo a biblioteca [scikit-learn](https://scikit-learn.org/) para fazer a classificação e análise dos dados.\n",
    "\n",
    "Para o treinamento do modelo apliquei a técnica de divisão _hold-out_ separando o conjunto de treino e teste na proporção de 80%.\n",
    "\n",
    "Para o primeiro momento utilizei uma [árvore de decisão](https://scikit-learn.org/stable/modules/generated/sklearn.tree.DecisionTreeClassifier.html) padrão do sklearn. \n",
    "\n",
    "Em seguida, faço uma varredura manual por hiperparâmetros e verifico que o `max-depth` de 13 produziu o melhor resultado."
   ]
  },
  {
   "cell_type": "code",
   "execution_count": 31,
   "metadata": {},
   "outputs": [],
   "source": [
    "df = pd.read_sql(\n",
    "  \"\"\"\n",
    "  SELECT Idade, Estado, Organizacao, Modalidade, Turno, Grupo, Sexo\n",
    "  FROM Prova\n",
    "  WHERE Idade >= 16\n",
    "  \"\"\",\n",
    "  engine\n",
    ")"
   ]
  },
  {
   "cell_type": "code",
   "execution_count": 32,
   "metadata": {},
   "outputs": [
    {
     "data": {
      "text/html": [
       "<div>\n",
       "<style scoped>\n",
       "    .dataframe tbody tr th:only-of-type {\n",
       "        vertical-align: middle;\n",
       "    }\n",
       "\n",
       "    .dataframe tbody tr th {\n",
       "        vertical-align: top;\n",
       "    }\n",
       "\n",
       "    .dataframe thead th {\n",
       "        text-align: right;\n",
       "    }\n",
       "</style>\n",
       "<table border=\"1\" class=\"dataframe\">\n",
       "  <thead>\n",
       "    <tr style=\"text-align: right;\">\n",
       "      <th></th>\n",
       "      <th>Idade</th>\n",
       "      <th>Estado</th>\n",
       "      <th>Organizacao</th>\n",
       "      <th>Modalidade</th>\n",
       "      <th>Turno</th>\n",
       "      <th>Grupo</th>\n",
       "      <th>Sexo</th>\n",
       "    </tr>\n",
       "  </thead>\n",
       "  <tbody>\n",
       "    <tr>\n",
       "      <th>0</th>\n",
       "      <td>26</td>\n",
       "      <td>51</td>\n",
       "      <td>10028</td>\n",
       "      <td>1</td>\n",
       "      <td>3</td>\n",
       "      <td>5710</td>\n",
       "      <td>1</td>\n",
       "    </tr>\n",
       "    <tr>\n",
       "      <th>1</th>\n",
       "      <td>23</td>\n",
       "      <td>51</td>\n",
       "      <td>10028</td>\n",
       "      <td>1</td>\n",
       "      <td>3</td>\n",
       "      <td>5710</td>\n",
       "      <td>1</td>\n",
       "    </tr>\n",
       "    <tr>\n",
       "      <th>2</th>\n",
       "      <td>23</td>\n",
       "      <td>51</td>\n",
       "      <td>10028</td>\n",
       "      <td>1</td>\n",
       "      <td>3</td>\n",
       "      <td>5710</td>\n",
       "      <td>0</td>\n",
       "    </tr>\n",
       "    <tr>\n",
       "      <th>3</th>\n",
       "      <td>23</td>\n",
       "      <td>51</td>\n",
       "      <td>10028</td>\n",
       "      <td>1</td>\n",
       "      <td>3</td>\n",
       "      <td>5710</td>\n",
       "      <td>0</td>\n",
       "    </tr>\n",
       "    <tr>\n",
       "      <th>4</th>\n",
       "      <td>24</td>\n",
       "      <td>51</td>\n",
       "      <td>10028</td>\n",
       "      <td>1</td>\n",
       "      <td>3</td>\n",
       "      <td>5710</td>\n",
       "      <td>0</td>\n",
       "    </tr>\n",
       "  </tbody>\n",
       "</table>\n",
       "</div>"
      ],
      "text/plain": [
       "   Idade  Estado  Organizacao  Modalidade  Turno  Grupo  Sexo\n",
       "0     26      51        10028           1      3   5710     1\n",
       "1     23      51        10028           1      3   5710     1\n",
       "2     23      51        10028           1      3   5710     0\n",
       "3     23      51        10028           1      3   5710     0\n",
       "4     24      51        10028           1      3   5710     0"
      ]
     },
     "execution_count": 32,
     "metadata": {},
     "output_type": "execute_result"
    }
   ],
   "source": [
    "df['Sexo'] = df['Sexo'].apply(lambda x: 1 if x == 'F' else 0)\n",
    "df.head()"
   ]
  },
  {
   "cell_type": "code",
   "execution_count": 33,
   "metadata": {},
   "outputs": [],
   "source": [
    "X = df.iloc[:, :6]\n",
    "y = df.Sexo"
   ]
  },
  {
   "cell_type": "markdown",
   "metadata": {},
   "source": [
    "### Tentativa 1"
   ]
  },
  {
   "cell_type": "code",
   "execution_count": 34,
   "metadata": {},
   "outputs": [
    {
     "data": {
      "text/plain": [
       "DecisionTreeClassifier(random_state=42)"
      ]
     },
     "execution_count": 34,
     "metadata": {},
     "output_type": "execute_result"
    }
   ],
   "source": [
    "from sklearn.model_selection import train_test_split\n",
    "from sklearn.tree import DecisionTreeClassifier\n",
    "\n",
    "X_train, X_test, y_train, y_test = train_test_split(X, y, test_size=0.2, random_state=42)\n",
    "classifier = DecisionTreeClassifier(random_state=42)\n",
    "\n",
    "classifier.fit(X_train, y_train)"
   ]
  },
  {
   "cell_type": "code",
   "execution_count": 35,
   "metadata": {},
   "outputs": [
    {
     "name": "stdout",
     "output_type": "stream",
     "text": [
      "Acuracia:  0.6834463716929653\n",
      "Precisao:  0.7113152500157418\n"
     ]
    }
   ],
   "source": [
    "from sklearn.metrics import accuracy_score, precision_score\n",
    "\n",
    "y_pred = classifier.predict(X_test)\n",
    "print('Acuracia: ', accuracy_score(y_test, y_pred))\n",
    "print('Precisao: ', precision_score(y_test, y_pred))"
   ]
  },
  {
   "cell_type": "markdown",
   "metadata": {},
   "source": [
    "### Tentativa 2"
   ]
  },
  {
   "cell_type": "code",
   "execution_count": 36,
   "metadata": {},
   "outputs": [
    {
     "data": {
      "text/plain": [
       "DecisionTreeClassifier(max_depth=13, random_state=42)"
      ]
     },
     "execution_count": 36,
     "metadata": {},
     "output_type": "execute_result"
    }
   ],
   "source": [
    "from sklearn.model_selection import train_test_split\n",
    "from sklearn.tree import DecisionTreeClassifier\n",
    "\n",
    "X_train, X_test, y_train, y_test = train_test_split(X, y, test_size=0.2, random_state=42)\n",
    "classifier = DecisionTreeClassifier(random_state=42, max_depth=13)\n",
    "\n",
    "classifier.fit(X_train, y_train)"
   ]
  },
  {
   "cell_type": "code",
   "execution_count": 37,
   "metadata": {},
   "outputs": [
    {
     "name": "stdout",
     "output_type": "stream",
     "text": [
      "Acuracia:  0.70142375314543\n",
      "Precisao:  0.7137937631528601\n"
     ]
    }
   ],
   "source": [
    "from sklearn.metrics import accuracy_score, precision_score\n",
    "\n",
    "y_pred = classifier.predict(X_test)\n",
    "print('Acuracia: ', accuracy_score(y_test, y_pred))\n",
    "print('Precisao: ', precision_score(y_test, y_pred))"
   ]
  },
  {
   "cell_type": "markdown",
   "metadata": {},
   "source": [
    "## Questão 7"
   ]
  },
  {
   "cell_type": "markdown",
   "metadata": {},
   "source": [
    "Abaixo, segue todas as ferramentas utilizadas e o motivo da escolha:\n",
    "- [Python](https://www.python.org/): familiaridade com a linguagem e praticidade nos fluxos de treinamento de modelos e visualização de dados, além de integrações com bancos relacionais. \n",
    "- [Jupyter notebook](https://jupyter.org/): produzir um trabalho iterativo com relatório junto do código.\n",
    "- [Pandas](pandas.pydata.org/): praticidade no uso de dataframes e integração com SQL e visualização de dados.\n",
    "- [Seaborn](https://seaborn.pydata.org/): facilidade de usar e beleza das visualizações, além de integração com pandas.\n",
    "- [SQLite](https://www.sqlite.org/index.html): banco leve e super simples de usar.\n",
    "- [SQLAlchemy](https://www.sqlalchemy.org/): integração com python o tornou fácil de utilizar em ambiente jupyter.\n",
    "- [Scikit-learn](https://scikit-learn.org/): familiaridade e praticidade no treinamento de modelos simples.\n",
    "- [Tqdm](https://tqdm.github.io/): facilidade na criação de barras de progresso."
   ]
  }
 ],
 "metadata": {
  "colab": {
   "collapsed_sections": [],
   "name": "ProvaIndividualDW.ipynb",
   "provenance": []
  },
  "kernelspec": {
   "display_name": "Python 3 (ipykernel)",
   "language": "python",
   "name": "python3"
  },
  "language_info": {
   "codemirror_mode": {
    "name": "ipython",
    "version": 3
   },
   "file_extension": ".py",
   "mimetype": "text/x-python",
   "name": "python",
   "nbconvert_exporter": "python",
   "pygments_lexer": "ipython3",
   "version": "3.9.7"
  }
 },
 "nbformat": 4,
 "nbformat_minor": 1
}
